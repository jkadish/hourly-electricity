{
 "metadata": {
  "name": ""
 },
 "nbformat": 3,
 "nbformat_minor": 0,
 "worksheets": [
  {
   "cells": [
    {
     "cell_type": "markdown",
     "metadata": {},
     "source": [
      "**MERGING HOURLY LOAD DATA FROM DIFFERENT SOURCES**"
     ]
    },
    {
     "cell_type": "markdown",
     "metadata": {},
     "source": [
      "*Importing essential libraries*"
     ]
    },
    {
     "cell_type": "code",
     "collapsed": false,
     "input": [
      "import pandas as pd\n",
      "import glob\n",
      "import numpy as np\n",
      "import re\n",
      "import matplotlib"
     ],
     "language": "python",
     "metadata": {},
     "outputs": [],
     "prompt_number": 2
    },
    {
     "cell_type": "markdown",
     "metadata": {},
     "source": [
      "***ISONE DATA***"
     ]
    },
    {
     "cell_type": "code",
     "collapsed": false,
     "input": [
      "allFiles = glob.glob(\"../data/ISONE/*.xls\")[:-1]\n",
      "allsheets = list(set([item for sublist in [pd.ExcelFile(f).sheet_names for f in allFiles] for item in sublist]))"
     ],
     "language": "python",
     "metadata": {},
     "outputs": [],
     "prompt_number": 2
    },
    {
     "cell_type": "code",
     "collapsed": false,
     "input": [
      "isone_me = pd.DataFrame()\n",
      "list_ = []\n",
      "\n",
      "for f in allFiles:\n",
      "    df = pd.DataFrame()\n",
      "    if (\"ME\" in pd.ExcelFile(f).sheet_names):\n",
      "        df = pd.ExcelFile.parse(pd.ExcelFile(f),\"ME\",index_col=None, header=0)\n",
      "    list_.append(df)\n",
      "isone_me = pd.concat(list_)\n",
      "isone_me = isone_me[['Date', 'Hour', 'DEMAND']]\n",
      "isone_me['Zone'] = 'ME ISONE'"
     ],
     "language": "python",
     "metadata": {},
     "outputs": [],
     "prompt_number": 3
    },
    {
     "cell_type": "code",
     "collapsed": false,
     "input": [
      "isone_nh = pd.DataFrame()\n",
      "list_ = []\n",
      "\n",
      "for f in allFiles:\n",
      "    df = pd.DataFrame()\n",
      "    if (\"NH\" in pd.ExcelFile(f).sheet_names):\n",
      "        df = pd.ExcelFile.parse(pd.ExcelFile(f),\"NH\",index_col=None, header=0)\n",
      "    list_.append(df)\n",
      "isone_nh = pd.concat(list_)\n",
      "isone_nh = isone_nh[['Date', 'Hour', 'DEMAND']]\n",
      "isone_nh['Zone'] = 'NH ISONE'"
     ],
     "language": "python",
     "metadata": {},
     "outputs": [],
     "prompt_number": 4
    },
    {
     "cell_type": "code",
     "collapsed": false,
     "input": [
      "isone_wcmass = pd.DataFrame()\n",
      "list_ = []\n",
      "\n",
      "for f in allFiles:\n",
      "    df = pd.DataFrame()\n",
      "    if (\"WCMASS\" in pd.ExcelFile(f).sheet_names):\n",
      "        df = pd.ExcelFile.parse(pd.ExcelFile(f),\"WCMASS\",index_col=None, header=0)\n",
      "    list_.append(df)\n",
      "isone_wcmass = pd.concat(list_)\n",
      "isone_wcmass = isone_wcmass[['Date', 'Hour', 'DEMAND']]\n",
      "isone_wcmass['Zone'] = 'WCMASS ISONE'"
     ],
     "language": "python",
     "metadata": {},
     "outputs": [],
     "prompt_number": 5
    },
    {
     "cell_type": "code",
     "collapsed": false,
     "input": [
      "isone_semass = pd.DataFrame()\n",
      "list_ = []\n",
      "\n",
      "for f in allFiles:\n",
      "    df = pd.DataFrame()\n",
      "    if (\"SEMASS\" in pd.ExcelFile(f).sheet_names):\n",
      "        df = pd.ExcelFile.parse(pd.ExcelFile(f),\"SEMASS\",index_col=None, header=0)\n",
      "    list_.append(df)\n",
      "isone_semass = pd.concat(list_)\n",
      "isone_semass = isone_semass[['Date', 'Hour', 'DEMAND']]\n",
      "isone_semass['Zone'] = 'SEMASS ISONE'"
     ],
     "language": "python",
     "metadata": {},
     "outputs": [],
     "prompt_number": 6
    },
    {
     "cell_type": "code",
     "collapsed": false,
     "input": [
      "isone_vt = pd.DataFrame()\n",
      "list_ = []\n",
      "\n",
      "for f in allFiles:\n",
      "    df = pd.DataFrame()\n",
      "    if (\"VT\" in pd.ExcelFile(f).sheet_names):\n",
      "        df = pd.ExcelFile.parse(pd.ExcelFile(f),\"VT\",index_col=None, header=0)\n",
      "    list_.append(df)\n",
      "isone_vt = pd.concat(list_)\n",
      "isone_vt = isone_vt[['Date', 'Hour', 'DEMAND']]\n",
      "isone_vt['Zone'] = 'VT ISONE'"
     ],
     "language": "python",
     "metadata": {},
     "outputs": [],
     "prompt_number": 7
    },
    {
     "cell_type": "code",
     "collapsed": false,
     "input": [
      "isone_nemassbost = pd.DataFrame()\n",
      "list_ = []\n",
      "\n",
      "for f in allFiles:\n",
      "    df = pd.DataFrame()\n",
      "    if (\"NEMASSBOST\" in pd.ExcelFile(f).sheet_names):\n",
      "        df = pd.ExcelFile.parse(pd.ExcelFile(f),\"NEMASSBOST\",index_col=None, header=0)\n",
      "    list_.append(df)\n",
      "isone_nemassbost = pd.concat(list_)\n",
      "isone_nemassbost = isone_nemassbost[['Date', 'Hour', 'DEMAND']]\n",
      "isone_nemassbost['Zone'] = 'NEMASSBOST ISONE'"
     ],
     "language": "python",
     "metadata": {},
     "outputs": [],
     "prompt_number": 8
    },
    {
     "cell_type": "code",
     "collapsed": false,
     "input": [
      "isone_ri = pd.DataFrame()\n",
      "list_ = []\n",
      "\n",
      "for f in allFiles:\n",
      "    df = pd.DataFrame()\n",
      "    if (\"RI\" in pd.ExcelFile(f).sheet_names):\n",
      "        df = pd.ExcelFile.parse(pd.ExcelFile(f),\"RI\",index_col=None, header=0)\n",
      "    list_.append(df)\n",
      "isone_ri = pd.concat(list_)\n",
      "isone_ri = isone_ri[['Date', 'Hour', 'DEMAND']]\n",
      "isone_ri['Zone'] = 'RI ISONE'"
     ],
     "language": "python",
     "metadata": {},
     "outputs": [],
     "prompt_number": 9
    },
    {
     "cell_type": "code",
     "collapsed": false,
     "input": [
      "isone_ct = pd.DataFrame()\n",
      "list_ = []\n",
      "\n",
      "for f in allFiles:\n",
      "    df = pd.DataFrame()\n",
      "    if (\"CT\" in pd.ExcelFile(f).sheet_names):\n",
      "        df = pd.ExcelFile.parse(pd.ExcelFile(f),\"CT\",index_col=None, header=0)\n",
      "    list_.append(df)\n",
      "isone_ct = pd.concat(list_)\n",
      "isone_ct = isone_ct[['Date', 'Hour', 'DEMAND']]\n",
      "isone_ct['Zone'] = 'CT ISONE'"
     ],
     "language": "python",
     "metadata": {},
     "outputs": [],
     "prompt_number": 10
    },
    {
     "cell_type": "markdown",
     "metadata": {},
     "source": [
      "Transpose and Rename Columns appropriately"
     ]
    },
    {
     "cell_type": "code",
     "collapsed": false,
     "input": [
      "list_ = [isone_me, isone_nh, isone_wcmass, isone_semass, isone_vt, isone_nemassbost, isone_ri, isone_ct]\n",
      "isone = pd.concat(list_)\n",
      "isone.rename(columns  = {'DEMAND':'Demand'}, inplace=True)"
     ],
     "language": "python",
     "metadata": {},
     "outputs": [],
     "prompt_number": 11
    },
    {
     "cell_type": "markdown",
     "metadata": {},
     "source": [
      "***FERC DATA***"
     ]
    },
    {
     "cell_type": "code",
     "collapsed": false,
     "input": [
      "ferc = pd.io.parsers.read_csv(\"../data/FERC/form714-database/Part 3 Schedule 2 - Planning Area Hourly Demand.csv\")\n",
      "\n",
      "ferc = ferc.rename(columns = {'plan_date':'Date', 'respondent_id':'Zone'})\n",
      "ferc = ferc.drop(ferc.columns[-27:], axis=1)\n",
      "ferc = ferc.drop(['report_yr', 'report_prd', 'spplmnt_num', 'row_num', 'timezone'], axis = 1)"
     ],
     "language": "python",
     "metadata": {},
     "outputs": [],
     "prompt_number": 12
    },
    {
     "cell_type": "code",
     "collapsed": false,
     "input": [
      "ferc['total'] = ferc[ferc.columns[2:]].sum(axis = 1)\n",
      "ferc1 = ferc[(ferc.total != 0) & (ferc.Zone < 1000)]\n",
      "ferc1 = ferc1.drop(['total'], axis = 1)\n",
      "ferc1 = ferc1.reset_index(drop = True)"
     ],
     "language": "python",
     "metadata": {},
     "outputs": [],
     "prompt_number": 13
    },
    {
     "cell_type": "code",
     "collapsed": false,
     "input": [
      "list_ = []\n",
      "for col in ferc1.columns[2:]:\n",
      "    df = pd.DataFrame()\n",
      "    df['Zone'] = ferc1['Zone']\n",
      "    df['Date'] = ferc1['Date']\n",
      "    df['Demand'] = ferc1[col]\n",
      "    df['Hour'] = int(col[4:])\n",
      "    list_.append(df)\n",
      "ferc = pd.concat(list_)\n",
      "\n",
      "ferc['Zone'] = ferc['Zone'].astype(str) + ' FERC'"
     ],
     "language": "python",
     "metadata": {},
     "outputs": [],
     "prompt_number": 16
    },
    {
     "cell_type": "code",
     "collapsed": false,
     "input": [
      "ferc['Date'] = ferc['Date'].map(lambda x: pd.to_datetime(x).date())"
     ],
     "language": "python",
     "metadata": {},
     "outputs": [],
     "prompt_number": 17
    },
    {
     "cell_type": "markdown",
     "metadata": {},
     "source": [
      "**PJM DATA**"
     ]
    },
    {
     "cell_type": "code",
     "collapsed": false,
     "input": [
      "allFiles = sorted(glob.glob(\"../data/PJM/*.xls\"))\n",
      "files_set1 = allFiles[:7]\n",
      "files_set2 = allFiles[13:]\n",
      "files_set3 = allFiles[7:13]"
     ],
     "language": "python",
     "metadata": {},
     "outputs": [],
     "prompt_number": 18
    },
    {
     "cell_type": "code",
     "collapsed": false,
     "input": [
      "def rename_col(x):\n",
      "    col_name = ''\n",
      "    if isinstance(x,int):\n",
      "        col_name =  'hour0'+ str(x) if x < 10 else 'hour' + str(x)\n",
      "    elif (re.match('.*DATE.*', x) is not None) or x == 'DD':\n",
      "        col_name = 'Date'\n",
      "    elif x == 'ZONE_NAME' or x == 'CC' or x == 'COMP':\n",
      "        col_name = 'Zone'\n",
      "    else:\n",
      "        if x.isdigit():\n",
      "            col_name = 'hour0' + x if int(x) < 10 else 'hour' + x\n",
      "        elif x[0:2] == 'HE':\n",
      "            col_name = 'hour' + x[2:]\n",
      "        elif x[0] == 'H':\n",
      "            col_name = 'hour0' + x[1:] if int(x[1:]) < 10 else 'hour' + x[1:]\n",
      "        else:\n",
      "            col_name = x\n",
      "    return col_name"
     ],
     "language": "python",
     "metadata": {},
     "outputs": [],
     "prompt_number": 19
    },
    {
     "cell_type": "code",
     "collapsed": false,
     "input": [
      "pjm_set1 = pd.DataFrame()\n",
      "list_ = []\n",
      "for f in files_set1:\n",
      "    df = pd.ExcelFile.parse(pd.ExcelFile(f),sheetname = 0)\n",
      "    df.columns = df.columns.map(rename_col)\n",
      "    list_.append(df)\n",
      "pjm_set1 = pd.concat(list_)"
     ],
     "language": "python",
     "metadata": {},
     "outputs": [],
     "prompt_number": 20
    },
    {
     "cell_type": "code",
     "collapsed": false,
     "input": [
      "pjm_set2 = pd.DataFrame()\n",
      "list_ = []\n",
      "for f in files_set2:\n",
      "    xlfile = pd.ExcelFile(f)\n",
      "    df_list = [pd.ExcelFile.parse(xlfile,sheet, parse_cols = 25) for sheet in xlfile.sheet_names[3:]]\n",
      "    df = pd.concat(df_list)\n",
      "    df.columns = df.columns.map(rename_col)\n",
      "    list_.append(df)\n",
      "pjm_set2 = pd.concat(list_)"
     ],
     "language": "python",
     "metadata": {},
     "outputs": [],
     "prompt_number": 21
    },
    {
     "cell_type": "code",
     "collapsed": false,
     "input": [
      "pjm_set3 = pd.DataFrame()\n",
      "list_ = []\n",
      "for f in files_set3:\n",
      "    xlfile = pd.ExcelFile(f)\n",
      "    df_list = [xlfile.parse(sheet, parse_cols = 25) for sheet in xlfile.sheet_names[2:]]\n",
      "    df = pd.concat(df_list)\n",
      "    df.columns = df.columns.map(rename_col)\n",
      "    list_.append(df)\n",
      "pjm_set3 = pd.concat(list_)"
     ],
     "language": "python",
     "metadata": {},
     "outputs": [],
     "prompt_number": 22
    },
    {
     "cell_type": "code",
     "collapsed": false,
     "input": [
      "pjm = pd.concat([pjm_set1, pjm_set2, pjm_set3])"
     ],
     "language": "python",
     "metadata": {},
     "outputs": [],
     "prompt_number": 23
    },
    {
     "cell_type": "code",
     "collapsed": false,
     "input": [
      "list_ = []\n",
      "for col in pjm.columns[2:]:\n",
      "    df = pd.DataFrame()\n",
      "    df['Zone'] = pjm['Zone']\n",
      "    df['Date'] = pjm['Date']\n",
      "    df['Demand'] = pjm[col]\n",
      "    df['Hour'] = int(col[4:])\n",
      "    list_.append(df)\n",
      "pjm = pd.concat(list_)\n",
      "\n",
      "pjm['Zone'] = pjm['Zone'].astype(str) + ' PJM'"
     ],
     "language": "python",
     "metadata": {},
     "outputs": [],
     "prompt_number": 24
    },
    {
     "cell_type": "code",
     "collapsed": false,
     "input": [
      "panel_df = pd.concat([isone, ferc, pjm])"
     ],
     "language": "python",
     "metadata": {},
     "outputs": [],
     "prompt_number": 25
    },
    {
     "cell_type": "code",
     "collapsed": false,
     "input": [
      "print len(panel_df)\n",
      "print panel_df.count()\n",
      "panel_df_sub = panel_df.dropna().reset_index(drop=True)\n",
      "print len(panel_df_sub)/float(len(panel_df))"
     ],
     "language": "python",
     "metadata": {},
     "outputs": [
      {
       "output_type": "stream",
       "stream": "stdout",
       "text": [
        "15510452\n",
        "Date      15430172\n",
        "Demand    15371458\n",
        "Hour      15488832\n",
        "Zone      15510452\n",
        "dtype: int64"
       ]
      },
      {
       "output_type": "stream",
       "stream": "stdout",
       "text": [
        "\n",
        "0.991038494558"
       ]
      },
      {
       "output_type": "stream",
       "stream": "stdout",
       "text": [
        "\n"
       ]
      }
     ],
     "prompt_number": 26
    },
    {
     "cell_type": "code",
     "collapsed": false,
     "input": [
      "%matplotlib inline\n",
      "import matplotlib.pyplot as plt # side-stepping mpl backend\n",
      "import matplotlib.gridspec as gridspec # subplots"
     ],
     "language": "python",
     "metadata": {},
     "outputs": [],
     "prompt_number": 22
    },
    {
     "cell_type": "code",
     "collapsed": false,
     "input": [
      "def draw_lineplot(data, zone):\n",
      "    fig = plt.figure(1, figsize=(30, 16))\n",
      "    ax = fig.add_subplot(111)\n",
      "    ax.plot(data['Hour'], data['Demand'])\n",
      "    fig.savefig('../plots/mean_load/meanload_' + zone + '.png')\n",
      "    plt.close()"
     ],
     "language": "python",
     "metadata": {},
     "outputs": [],
     "prompt_number": 29
    },
    {
     "cell_type": "code",
     "collapsed": false,
     "input": [
      "mean_load = panel_df.groupby(['Zone','Hour'], as_index=False).mean()\n",
      "zones = mean_load['Zone'].unique()\n",
      "\n",
      "for z in zones:\n",
      "    load_z = mean_load[mean_load['Zone'] == z]\n",
      "    draw_lineplot(load_z, z)"
     ],
     "language": "python",
     "metadata": {},
     "outputs": [],
     "prompt_number": 30
    },
    {
     "cell_type": "code",
     "collapsed": false,
     "input": [
      "def draw_boxplot(load_data, zone):\n",
      "    fig = plt.figure(1, figsize=(365, 16))\n",
      "    ax = fig.add_subplot(111)\n",
      "\n",
      "    # Create the boxplot\n",
      "    bp = ax.boxplot(load_data, patch_artist=True)\n",
      "\n",
      "    for flier in bp['fliers']:\n",
      "        flier.set(marker='o', color='#e7298a', alpha=0.5)\n",
      "\n",
      "    # Save the figure\n",
      "    fig.savefig('../plots/outlier_' + zone + '.png', bbox_inches='tight')\n",
      "    plt.close()"
     ],
     "language": "python",
     "metadata": {},
     "outputs": [],
     "prompt_number": 31
    },
    {
     "cell_type": "code",
     "collapsed": false,
     "input": [
      "last_year = panel_df[panel_df['Date'].apply(lambda x: pd.to_datetime(x).year == 2014)]\n",
      "daily_load = last_year.groupby(['Zone', 'Date'], as_index=False).apply(lambda x:x.set_index('Hour').to_dict('dict')['Demand'])"
     ],
     "language": "python",
     "metadata": {},
     "outputs": [],
     "prompt_number": 32
    },
    {
     "cell_type": "code",
     "collapsed": false,
     "input": [
      "zones = daily_load.index.get_level_values('Zone').unique()\n",
      "for z in zones:\n",
      "    load_data = []\n",
      "    for d in daily_load[z]:\n",
      "        load_data.append([d[t] for t in d.keys()])\n",
      "    draw_boxplot(load_data, z)"
     ],
     "language": "python",
     "metadata": {},
     "outputs": [],
     "prompt_number": 33
    },
    {
     "cell_type": "code",
     "collapsed": false,
     "input": [
      "panel_df_sub.to_csv('../output/panel_data.csv', sep=',', index = False)"
     ],
     "language": "python",
     "metadata": {},
     "outputs": [],
     "prompt_number": 27
    },
    {
     "cell_type": "markdown",
     "metadata": {},
     "source": [
      "** Run from here to load the data already written to file **"
     ]
    },
    {
     "cell_type": "code",
     "collapsed": false,
     "input": [
      "panel_df_sub1 = pd.read_csv('../output/panel_data.csv')"
     ],
     "language": "python",
     "metadata": {},
     "outputs": [],
     "prompt_number": 170
    },
    {
     "cell_type": "code",
     "collapsed": false,
     "input": [
      "panel_df_sub = panel_df_sub1\n",
      "# [900000:1000000]"
     ],
     "language": "python",
     "metadata": {},
     "outputs": [],
     "prompt_number": "*"
    },
    {
     "cell_type": "code",
     "collapsed": false,
     "input": [
      "panel_df_sub['Diff'] = panel_df_sub['Demand'] - panel_df_sub['Demand'].shift(1)\n",
      "panel_df_sub['Diff'] = panel_df_sub['Diff'].fillna(0)\n",
      "panel_df_sub['PercentDiff'] = panel_df_sub['Diff']/panel_df_sub['Demand']*100"
     ],
     "language": "python",
     "metadata": {},
     "outputs": [],
     "prompt_number": 182
    },
    {
     "cell_type": "code",
     "collapsed": false,
     "input": [
      "panel_df_sub['PercentDiff'] = panel_df_sub['PercentDiff'].replace([-np.inf], -100)\n",
      "panel_df_sub['PercentDiff'] = panel_df_sub['PercentDiff'].replace([np.inf], 100)"
     ],
     "language": "python",
     "metadata": {},
     "outputs": [],
     "prompt_number": 183
    },
    {
     "cell_type": "code",
     "collapsed": true,
     "input": [
      "df = panel_df_sub['PercentDiff'].apply(lambda x: x if not np.isreal(x) else 0)\n",
      "# df.unique()\n",
      "print panel_df_sub['PercentDiff'][:1]\n"
     ],
     "language": "python",
     "metadata": {},
     "outputs": [
      {
       "ename": "KeyboardInterrupt",
       "evalue": "",
       "output_type": "pyerr",
       "traceback": [
        "\u001b[0;31m---------------------------------------------------------------------------\u001b[0m\n\u001b[0;31mKeyboardInterrupt\u001b[0m                         Traceback (most recent call last)",
        "\u001b[0;32m<ipython-input-169-0515bf23a9ca>\u001b[0m in \u001b[0;36m<module>\u001b[0;34m()\u001b[0m\n\u001b[0;32m----> 1\u001b[0;31m \u001b[0mdf\u001b[0m \u001b[0;34m=\u001b[0m \u001b[0mpanel_df_sub\u001b[0m\u001b[0;34m[\u001b[0m\u001b[0;34m'PercentDiff'\u001b[0m\u001b[0;34m]\u001b[0m\u001b[0;34m.\u001b[0m\u001b[0mapply\u001b[0m\u001b[0;34m(\u001b[0m\u001b[0;32mlambda\u001b[0m \u001b[0mx\u001b[0m\u001b[0;34m:\u001b[0m \u001b[0mx\u001b[0m \u001b[0;32mif\u001b[0m \u001b[0;32mnot\u001b[0m \u001b[0mnp\u001b[0m\u001b[0;34m.\u001b[0m\u001b[0misreal\u001b[0m\u001b[0;34m(\u001b[0m\u001b[0mx\u001b[0m\u001b[0;34m)\u001b[0m \u001b[0;32melse\u001b[0m \u001b[0;36m0\u001b[0m\u001b[0;34m)\u001b[0m\u001b[0;34m\u001b[0m\u001b[0m\n\u001b[0m\u001b[1;32m      2\u001b[0m \u001b[0;31m# df.unique()\u001b[0m\u001b[0;34m\u001b[0m\u001b[0;34m\u001b[0m\u001b[0m\n\u001b[1;32m      3\u001b[0m \u001b[0;32mprint\u001b[0m \u001b[0mpanel_df_sub\u001b[0m\u001b[0;34m[\u001b[0m\u001b[0;34m'PercentDiff'\u001b[0m\u001b[0;34m]\u001b[0m\u001b[0;34m[\u001b[0m\u001b[0;34m:\u001b[0m\u001b[0;36m1\u001b[0m\u001b[0;34m]\u001b[0m\u001b[0;34m\u001b[0m\u001b[0m\n",
        "\u001b[0;32m/usr/lib/python2.7/dist-packages/pandas/core/series.pyc\u001b[0m in \u001b[0;36mapply\u001b[0;34m(self, func, convert_dtype, args, **kwds)\u001b[0m\n\u001b[1;32m   2021\u001b[0m             \u001b[0mvalues\u001b[0m \u001b[0;34m=\u001b[0m \u001b[0mlib\u001b[0m\u001b[0;34m.\u001b[0m\u001b[0mmap_infer\u001b[0m\u001b[0;34m(\u001b[0m\u001b[0mvalues\u001b[0m\u001b[0;34m,\u001b[0m \u001b[0mlib\u001b[0m\u001b[0;34m.\u001b[0m\u001b[0mTimestamp\u001b[0m\u001b[0;34m)\u001b[0m\u001b[0;34m\u001b[0m\u001b[0m\n\u001b[1;32m   2022\u001b[0m \u001b[0;34m\u001b[0m\u001b[0m\n\u001b[0;32m-> 2023\u001b[0;31m         \u001b[0mmapped\u001b[0m \u001b[0;34m=\u001b[0m \u001b[0mlib\u001b[0m\u001b[0;34m.\u001b[0m\u001b[0mmap_infer\u001b[0m\u001b[0;34m(\u001b[0m\u001b[0mvalues\u001b[0m\u001b[0;34m,\u001b[0m \u001b[0mf\u001b[0m\u001b[0;34m,\u001b[0m \u001b[0mconvert\u001b[0m\u001b[0;34m=\u001b[0m\u001b[0mconvert_dtype\u001b[0m\u001b[0;34m)\u001b[0m\u001b[0;34m\u001b[0m\u001b[0m\n\u001b[0m\u001b[1;32m   2024\u001b[0m         \u001b[0;32mif\u001b[0m \u001b[0mlen\u001b[0m\u001b[0;34m(\u001b[0m\u001b[0mmapped\u001b[0m\u001b[0;34m)\u001b[0m \u001b[0;32mand\u001b[0m \u001b[0misinstance\u001b[0m\u001b[0;34m(\u001b[0m\u001b[0mmapped\u001b[0m\u001b[0;34m[\u001b[0m\u001b[0;36m0\u001b[0m\u001b[0;34m]\u001b[0m\u001b[0;34m,\u001b[0m \u001b[0mSeries\u001b[0m\u001b[0;34m)\u001b[0m\u001b[0;34m:\u001b[0m\u001b[0;34m\u001b[0m\u001b[0m\n\u001b[1;32m   2025\u001b[0m             \u001b[0;32mfrom\u001b[0m \u001b[0mpandas\u001b[0m\u001b[0;34m.\u001b[0m\u001b[0mcore\u001b[0m\u001b[0;34m.\u001b[0m\u001b[0mframe\u001b[0m \u001b[0;32mimport\u001b[0m \u001b[0mDataFrame\u001b[0m\u001b[0;34m\u001b[0m\u001b[0m\n",
        "\u001b[0;32m/usr/lib/python2.7/dist-packages/pandas/lib.so\u001b[0m in \u001b[0;36mpandas.lib.map_infer (pandas/lib.c:44780)\u001b[0;34m()\u001b[0m\n",
        "\u001b[0;32m<ipython-input-169-0515bf23a9ca>\u001b[0m in \u001b[0;36m<lambda>\u001b[0;34m(x)\u001b[0m\n\u001b[0;32m----> 1\u001b[0;31m \u001b[0mdf\u001b[0m \u001b[0;34m=\u001b[0m \u001b[0mpanel_df_sub\u001b[0m\u001b[0;34m[\u001b[0m\u001b[0;34m'PercentDiff'\u001b[0m\u001b[0;34m]\u001b[0m\u001b[0;34m.\u001b[0m\u001b[0mapply\u001b[0m\u001b[0;34m(\u001b[0m\u001b[0;32mlambda\u001b[0m \u001b[0mx\u001b[0m\u001b[0;34m:\u001b[0m \u001b[0mx\u001b[0m \u001b[0;32mif\u001b[0m \u001b[0;32mnot\u001b[0m \u001b[0mnp\u001b[0m\u001b[0;34m.\u001b[0m\u001b[0misreal\u001b[0m\u001b[0;34m(\u001b[0m\u001b[0mx\u001b[0m\u001b[0;34m)\u001b[0m \u001b[0;32melse\u001b[0m \u001b[0;36m0\u001b[0m\u001b[0;34m)\u001b[0m\u001b[0;34m\u001b[0m\u001b[0m\n\u001b[0m\u001b[1;32m      2\u001b[0m \u001b[0;31m# df.unique()\u001b[0m\u001b[0;34m\u001b[0m\u001b[0;34m\u001b[0m\u001b[0m\n\u001b[1;32m      3\u001b[0m \u001b[0;32mprint\u001b[0m \u001b[0mpanel_df_sub\u001b[0m\u001b[0;34m[\u001b[0m\u001b[0;34m'PercentDiff'\u001b[0m\u001b[0;34m]\u001b[0m\u001b[0;34m[\u001b[0m\u001b[0;34m:\u001b[0m\u001b[0;36m1\u001b[0m\u001b[0;34m]\u001b[0m\u001b[0;34m\u001b[0m\u001b[0m\n",
        "\u001b[0;32m/usr/lib/python2.7/dist-packages/numpy/lib/type_check.pyc\u001b[0m in \u001b[0;36misreal\u001b[0;34m(x)\u001b[0m\n\u001b[1;32m    233\u001b[0m \u001b[0;34m\u001b[0m\u001b[0m\n\u001b[1;32m    234\u001b[0m     \"\"\"\n\u001b[0;32m--> 235\u001b[0;31m     \u001b[0;32mreturn\u001b[0m \u001b[0mimag\u001b[0m\u001b[0;34m(\u001b[0m\u001b[0mx\u001b[0m\u001b[0;34m)\u001b[0m \u001b[0;34m==\u001b[0m \u001b[0;36m0\u001b[0m\u001b[0;34m\u001b[0m\u001b[0m\n\u001b[0m\u001b[1;32m    236\u001b[0m \u001b[0;34m\u001b[0m\u001b[0m\n\u001b[1;32m    237\u001b[0m \u001b[0;32mdef\u001b[0m \u001b[0miscomplexobj\u001b[0m\u001b[0;34m(\u001b[0m\u001b[0mx\u001b[0m\u001b[0;34m)\u001b[0m\u001b[0;34m:\u001b[0m\u001b[0;34m\u001b[0m\u001b[0m\n",
        "\u001b[0;31mKeyboardInterrupt\u001b[0m: "
       ]
      }
     ],
     "prompt_number": 169
    },
    {
     "cell_type": "code",
     "collapsed": false,
     "input": [
      "panel_df_sub[panel_df_sub['PercentDiff'] == np.inf]\n",
      "print panel_df_sub['PercentDiff'].describe()\n",
      "print len(panel_df_sub)/float(panel_df_sub['PercentDiff'].count())"
     ],
     "language": "python",
     "metadata": {},
     "outputs": [
      {
       "output_type": "stream",
       "stream": "stdout",
       "text": [
        "count    99947.000000\n",
        "mean        -1.976978\n",
        "std        185.952348\n",
        "min     -34106.755102\n",
        "25%         -3.612360\n",
        "50%          0.000000\n",
        "75%          3.493450\n",
        "max      25917.000000\n",
        "Name: PercentDiff, dtype: float64\n",
        "1.00053028105\n"
       ]
      }
     ],
     "prompt_number": 146
    },
    {
     "cell_type": "code",
     "collapsed": false,
     "input": [
      "panel_df_sub = panel_df_sub.fillna(0)\n",
      "max_diff = panel_df_sub.groupby('Hour')['PercentDiff'].sort_values()\n",
      "# sort(columns=\"PercentDiff\", axis=1)"
     ],
     "language": "python",
     "metadata": {},
     "outputs": [],
     "prompt_number": "*"
    },
    {
     "cell_type": "code",
     "collapsed": false,
     "input": [
      "af = pd.DataFrame()\n",
      "af['hour'] = [1,1,2,3,2,3]\n",
      "af['val'] = [25,32,12,45,22,54]\n",
      "af.groupby('hour')['val'].apply(lambda x: x)"
     ],
     "language": "python",
     "metadata": {},
     "outputs": [],
     "prompt_number": "*"
    },
    {
     "cell_type": "code",
     "collapsed": false,
     "input": [
      "def draw_difference_plot(hour):\n",
      "    fig = plt.figure(1, figsize=(30, 16))\n",
      "    ax = fig.add_subplot(111)\n",
      "#     print hour\n",
      "    data = panel_df_sub['PercentDiff'][panel_df_sub['Hour'] == hour]\n",
      "    data = data.reset_index(drop = True)\n",
      "    print len(data), data.count()\n",
      "#     ax.hist(data.dropna(),bins=40,normed=True,histtype='step')\n",
      "    ax.plot(range(1,len(data) + 1), data)\n",
      "    fig.savefig('../plots/step/diff_' + str(hour) + '.png')\n",
      "    plt.close()"
     ],
     "language": "python",
     "metadata": {},
     "outputs": [],
     "prompt_number": 200
    },
    {
     "cell_type": "code",
     "collapsed": false,
     "input": [
      "for hour in range(1,25):\n",
      "    draw_difference_plot(hour)"
     ],
     "language": "python",
     "metadata": {},
     "outputs": [
      {
       "output_type": "stream",
       "stream": "stdout",
       "text": [
        "640510 640510\n",
        "640167"
       ]
      },
      {
       "output_type": "stream",
       "stream": "stdout",
       "text": [
        " 640167\n",
        "640106"
       ]
      },
      {
       "output_type": "stream",
       "stream": "stdout",
       "text": [
        " 640106\n",
        "640510"
       ]
      },
      {
       "output_type": "stream",
       "stream": "stdout",
       "text": [
        " 640510\n",
        "640508"
       ]
      },
      {
       "output_type": "stream",
       "stream": "stdout",
       "text": [
        " 640508\n",
        "640510"
       ]
      },
      {
       "output_type": "stream",
       "stream": "stdout",
       "text": [
        " 640510\n",
        "640510"
       ]
      },
      {
       "output_type": "stream",
       "stream": "stdout",
       "text": [
        " 640510\n",
        "640507"
       ]
      },
      {
       "output_type": "stream",
       "stream": "stdout",
       "text": [
        " 640507\n",
        "640510"
       ]
      },
      {
       "output_type": "stream",
       "stream": "stdout",
       "text": [
        " 640510\n",
        "640510"
       ]
      },
      {
       "output_type": "stream",
       "stream": "stdout",
       "text": [
        " 640510\n",
        "640510"
       ]
      },
      {
       "output_type": "stream",
       "stream": "stdout",
       "text": [
        " 640510\n",
        "640510"
       ]
      },
      {
       "output_type": "stream",
       "stream": "stdout",
       "text": [
        " 640510\n",
        "640510"
       ]
      },
      {
       "output_type": "stream",
       "stream": "stdout",
       "text": [
        " 640510\n",
        "640510"
       ]
      },
      {
       "output_type": "stream",
       "stream": "stdout",
       "text": [
        " 640510\n",
        "640508"
       ]
      },
      {
       "output_type": "stream",
       "stream": "stdout",
       "text": [
        " 640508\n",
        "640508"
       ]
      },
      {
       "output_type": "stream",
       "stream": "stdout",
       "text": [
        " 640508\n",
        "640508"
       ]
      },
      {
       "output_type": "stream",
       "stream": "stdout",
       "text": [
        " 640508\n",
        "640508"
       ]
      },
      {
       "output_type": "stream",
       "stream": "stdout",
       "text": [
        " 640508\n",
        "640508"
       ]
      },
      {
       "output_type": "stream",
       "stream": "stdout",
       "text": [
        " 640508\n",
        "640498"
       ]
      },
      {
       "output_type": "stream",
       "stream": "stdout",
       "text": [
        " 640498\n",
        "640508"
       ]
      },
      {
       "output_type": "stream",
       "stream": "stdout",
       "text": [
        " 640508\n",
        "640508"
       ]
      },
      {
       "output_type": "stream",
       "stream": "stdout",
       "text": [
        " 640508\n",
        "640508"
       ]
      },
      {
       "output_type": "stream",
       "stream": "stdout",
       "text": [
        " 640508\n",
        "640505"
       ]
      },
      {
       "output_type": "stream",
       "stream": "stdout",
       "text": [
        " 640505\n"
       ]
      }
     ],
     "prompt_number": 201
    },
    {
     "cell_type": "code",
     "collapsed": false,
     "input": [
      "a = [1,2,3,4,1,5]\n",
      "b = range(1, len(a) +1)\n",
      "print b\n",
      "plt.plot(b,a)"
     ],
     "language": "python",
     "metadata": {},
     "outputs": [
      {
       "output_type": "stream",
       "stream": "stdout",
       "text": [
        "[1, 2, 3, 4, 5, 6]\n"
       ]
      },
      {
       "metadata": {},
       "output_type": "pyout",
       "prompt_number": 199,
       "text": [
        "[<matplotlib.lines.Line2D at 0x7f7690578310>]"
       ]
      },
      {
       "metadata": {},
       "output_type": "display_data",
       "png": "[encoded data removed]",
       "text": [
        "<matplotlib.figure.Figure at 0x7f768ea72850>"
       ]
      }
     ],
     "prompt_number": 199
    },
    {
     "cell_type": "code",
     "collapsed": false,
     "input": [],
     "language": "python",
     "metadata": {},
     "outputs": []
    }
   ],
   "metadata": {}
  }
 ]
}